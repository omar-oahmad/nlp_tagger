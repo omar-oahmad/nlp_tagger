{
 "cells": [
  {
   "cell_type": "markdown",
   "id": "103639b0",
   "metadata": {},
   "source": [
    "## We'll start with importing our libraries and reading the dataset"
   ]
  },
  {
   "cell_type": "code",
   "execution_count": 1,
   "id": "7742a4c1",
   "metadata": {},
   "outputs": [],
   "source": [
    "import requests\n",
    "import re \n",
    "import pandas as pd\n",
    "import numpy as np\n",
    "from urllib.error import HTTPError\n",
    "from bs4 import BeautifulSoup"
   ]
  },
  {
   "cell_type": "code",
   "execution_count": 2,
   "id": "7bdce7c4",
   "metadata": {},
   "outputs": [],
   "source": [
    "df = pd.read_csv('covid_abstracts.csv')"
   ]
  },
  {
   "cell_type": "code",
   "execution_count": 3,
   "id": "67b6b0aa",
   "metadata": {},
   "outputs": [],
   "source": [
    "df1 = pd.read_csv(\"Covid_Papers.csv\")"
   ]
  },
  {
   "cell_type": "code",
   "execution_count": 5,
   "id": "1fc145c1",
   "metadata": {},
   "outputs": [
    {
     "data": {
      "text/html": [
       "<div>\n",
       "<style scoped>\n",
       "    .dataframe tbody tr th:only-of-type {\n",
       "        vertical-align: middle;\n",
       "    }\n",
       "\n",
       "    .dataframe tbody tr th {\n",
       "        vertical-align: top;\n",
       "    }\n",
       "\n",
       "    .dataframe thead th {\n",
       "        text-align: right;\n",
       "    }\n",
       "</style>\n",
       "<table border=\"1\" class=\"dataframe\">\n",
       "  <thead>\n",
       "    <tr style=\"text-align: right;\">\n",
       "      <th></th>\n",
       "      <th>title</th>\n",
       "      <th>abstract</th>\n",
       "      <th>url</th>\n",
       "    </tr>\n",
       "  </thead>\n",
       "  <tbody>\n",
       "    <tr>\n",
       "      <th>0</th>\n",
       "      <td>Real-World Experience with COVID-19  Including...</td>\n",
       "      <td>This article summarizes the experiences of COV...</td>\n",
       "      <td>https://pubmed.ncbi.nlm.nih.gov/35008137</td>\n",
       "    </tr>\n",
       "    <tr>\n",
       "      <th>1</th>\n",
       "      <td>Successful outcome of pre-engraftment COVID-19...</td>\n",
       "      <td>Coronavirus disease 2019  COVID-19   caused by...</td>\n",
       "      <td>https://pubmed.ncbi.nlm.nih.gov/35008104</td>\n",
       "    </tr>\n",
       "    <tr>\n",
       "      <th>2</th>\n",
       "      <td>The impact of COVID-19 on oncology professiona...</td>\n",
       "      <td>BACKGROUND  COVID-19 has had a significant imp...</td>\n",
       "      <td>https://pubmed.ncbi.nlm.nih.gov/35007996</td>\n",
       "    </tr>\n",
       "    <tr>\n",
       "      <th>3</th>\n",
       "      <td>ICU admission and mortality classifiers for CO...</td>\n",
       "      <td>The coronavirus disease 2019  COVID-19  which ...</td>\n",
       "      <td>https://pubmed.ncbi.nlm.nih.gov/35007991</td>\n",
       "    </tr>\n",
       "    <tr>\n",
       "      <th>4</th>\n",
       "      <td>Clinical evaluation of nasopharyngeal  midturb...</td>\n",
       "      <td>In the setting of supply chain shortages of na...</td>\n",
       "      <td>https://pubmed.ncbi.nlm.nih.gov/35007959</td>\n",
       "    </tr>\n",
       "    <tr>\n",
       "      <th>...</th>\n",
       "      <td>...</td>\n",
       "      <td>...</td>\n",
       "      <td>...</td>\n",
       "    </tr>\n",
       "    <tr>\n",
       "      <th>9995</th>\n",
       "      <td>Rooming-in  Breastfeeding and Neonatal Follow-...</td>\n",
       "      <td>INTRODUCTION  Due to growing evidence suggesti...</td>\n",
       "      <td>https://pubmed.ncbi.nlm.nih.gov/34851815</td>\n",
       "    </tr>\n",
       "    <tr>\n",
       "      <th>9996</th>\n",
       "      <td>Acute Retinal Necrosis from Reactivation of Va...</td>\n",
       "      <td>PURPOSE  To report a case of acute retinal nec...</td>\n",
       "      <td>https://pubmed.ncbi.nlm.nih.gov/34851795</td>\n",
       "    </tr>\n",
       "    <tr>\n",
       "      <th>9997</th>\n",
       "      <td>Acute Abducens Nerve Palsy Following the Secon...</td>\n",
       "      <td>The authors report the case of an otherwise he...</td>\n",
       "      <td>https://pubmed.ncbi.nlm.nih.gov/34851785</td>\n",
       "    </tr>\n",
       "    <tr>\n",
       "      <th>9998</th>\n",
       "      <td>Planning and Implementing the Protocol for Psy...</td>\n",
       "      <td>The present study aims to plan the protocol fo...</td>\n",
       "      <td>https://pubmed.ncbi.nlm.nih.gov/34851781</td>\n",
       "    </tr>\n",
       "    <tr>\n",
       "      <th>9999</th>\n",
       "      <td>Prolonged corrected QT interval in hospitalize...</td>\n",
       "      <td>OBJECTIVE  To evaluate the association of a pr...</td>\n",
       "      <td>https://pubmed.ncbi.nlm.nih.gov/34851769</td>\n",
       "    </tr>\n",
       "  </tbody>\n",
       "</table>\n",
       "<p>10000 rows × 3 columns</p>\n",
       "</div>"
      ],
      "text/plain": [
       "                                                  title  \\\n",
       "0     Real-World Experience with COVID-19  Including...   \n",
       "1     Successful outcome of pre-engraftment COVID-19...   \n",
       "2     The impact of COVID-19 on oncology professiona...   \n",
       "3     ICU admission and mortality classifiers for CO...   \n",
       "4     Clinical evaluation of nasopharyngeal  midturb...   \n",
       "...                                                 ...   \n",
       "9995  Rooming-in  Breastfeeding and Neonatal Follow-...   \n",
       "9996  Acute Retinal Necrosis from Reactivation of Va...   \n",
       "9997  Acute Abducens Nerve Palsy Following the Secon...   \n",
       "9998  Planning and Implementing the Protocol for Psy...   \n",
       "9999  Prolonged corrected QT interval in hospitalize...   \n",
       "\n",
       "                                               abstract  \\\n",
       "0     This article summarizes the experiences of COV...   \n",
       "1     Coronavirus disease 2019  COVID-19   caused by...   \n",
       "2     BACKGROUND  COVID-19 has had a significant imp...   \n",
       "3     The coronavirus disease 2019  COVID-19  which ...   \n",
       "4     In the setting of supply chain shortages of na...   \n",
       "...                                                 ...   \n",
       "9995  INTRODUCTION  Due to growing evidence suggesti...   \n",
       "9996  PURPOSE  To report a case of acute retinal nec...   \n",
       "9997  The authors report the case of an otherwise he...   \n",
       "9998  The present study aims to plan the protocol fo...   \n",
       "9999  OBJECTIVE  To evaluate the association of a pr...   \n",
       "\n",
       "                                           url  \n",
       "0     https://pubmed.ncbi.nlm.nih.gov/35008137  \n",
       "1     https://pubmed.ncbi.nlm.nih.gov/35008104  \n",
       "2     https://pubmed.ncbi.nlm.nih.gov/35007996  \n",
       "3     https://pubmed.ncbi.nlm.nih.gov/35007991  \n",
       "4     https://pubmed.ncbi.nlm.nih.gov/35007959  \n",
       "...                                        ...  \n",
       "9995  https://pubmed.ncbi.nlm.nih.gov/34851815  \n",
       "9996  https://pubmed.ncbi.nlm.nih.gov/34851795  \n",
       "9997  https://pubmed.ncbi.nlm.nih.gov/34851785  \n",
       "9998  https://pubmed.ncbi.nlm.nih.gov/34851781  \n",
       "9999  https://pubmed.ncbi.nlm.nih.gov/34851769  \n",
       "\n",
       "[10000 rows x 3 columns]"
      ]
     },
     "execution_count": 5,
     "metadata": {},
     "output_type": "execute_result"
    }
   ],
   "source": [
    "df"
   ]
  },
  {
   "cell_type": "code",
   "execution_count": 7,
   "id": "3699a21f",
   "metadata": {},
   "outputs": [],
   "source": [
    "df1.drop(\"Unnamed: 0\", axis =1, inplace = True)"
   ]
  },
  {
   "cell_type": "code",
   "execution_count": 11,
   "id": "40493d68",
   "metadata": {},
   "outputs": [
    {
     "data": {
      "text/html": [
       "<div>\n",
       "<style scoped>\n",
       "    .dataframe tbody tr th:only-of-type {\n",
       "        vertical-align: middle;\n",
       "    }\n",
       "\n",
       "    .dataframe tbody tr th {\n",
       "        vertical-align: top;\n",
       "    }\n",
       "\n",
       "    .dataframe thead th {\n",
       "        text-align: right;\n",
       "    }\n",
       "</style>\n",
       "<table border=\"1\" class=\"dataframe\">\n",
       "  <thead>\n",
       "    <tr style=\"text-align: right;\">\n",
       "      <th></th>\n",
       "      <th>title</th>\n",
       "      <th>abstract</th>\n",
       "      <th>tags</th>\n",
       "    </tr>\n",
       "  </thead>\n",
       "  <tbody>\n",
       "    <tr>\n",
       "      <th>0</th>\n",
       "      <td>Real-World Experience with COVID-19  Including...</td>\n",
       "      <td>This article summarizes the experiences of COV...</td>\n",
       "      <td>['Aged', 'Aged, 80 and over', 'Antibodies, Mon...</td>\n",
       "    </tr>\n",
       "    <tr>\n",
       "      <th>1</th>\n",
       "      <td>Successful outcome of pre-engraftment COVID-19...</td>\n",
       "      <td>Coronavirus disease 2019  COVID-19   caused by...</td>\n",
       "      <td>['COVID-19*', 'Hematopoietic Stem Cell Transpl...</td>\n",
       "    </tr>\n",
       "    <tr>\n",
       "      <th>2</th>\n",
       "      <td>The impact of COVID-19 on oncology professiona...</td>\n",
       "      <td>BACKGROUND  COVID-19 has had a significant imp...</td>\n",
       "      <td>['Burnout, Professional* / epidemiology', 'COV...</td>\n",
       "    </tr>\n",
       "    <tr>\n",
       "      <th>3</th>\n",
       "      <td>ICU admission and mortality classifiers for CO...</td>\n",
       "      <td>The coronavirus disease 2019  COVID-19  which ...</td>\n",
       "      <td>['Bayes Theorem', 'COVID-19*', 'Hospitalizatio...</td>\n",
       "    </tr>\n",
       "    <tr>\n",
       "      <th>4</th>\n",
       "      <td>Clinical evaluation of nasopharyngeal  midturb...</td>\n",
       "      <td>In the setting of supply chain shortages of na...</td>\n",
       "      <td>['COVID-19 Testing', 'COVID-19* / diagnosis', ...</td>\n",
       "    </tr>\n",
       "    <tr>\n",
       "      <th>...</th>\n",
       "      <td>...</td>\n",
       "      <td>...</td>\n",
       "      <td>...</td>\n",
       "    </tr>\n",
       "    <tr>\n",
       "      <th>5468</th>\n",
       "      <td>Hypersensitivity Reactions to Vaccines  Curren...</td>\n",
       "      <td>The first reports of hypersensitivity reaction...</td>\n",
       "      <td>['Anaphylaxis* / chemically induced', 'COVID-1...</td>\n",
       "    </tr>\n",
       "    <tr>\n",
       "      <th>5469</th>\n",
       "      <td>Rooming-in  Breastfeeding and Neonatal Follow-...</td>\n",
       "      <td>INTRODUCTION  Due to growing evidence suggesti...</td>\n",
       "      <td>['Breast Feeding*', 'COVID-19*', 'Female', 'Fo...</td>\n",
       "    </tr>\n",
       "    <tr>\n",
       "      <th>5470</th>\n",
       "      <td>Acute Abducens Nerve Palsy Following the Secon...</td>\n",
       "      <td>The authors report the case of an otherwise he...</td>\n",
       "      <td>['Abducens Nerve Diseases* / chemically induce...</td>\n",
       "    </tr>\n",
       "    <tr>\n",
       "      <th>5471</th>\n",
       "      <td>Planning and Implementing the Protocol for Psy...</td>\n",
       "      <td>The present study aims to plan the protocol fo...</td>\n",
       "      <td>['COVID-19*', 'Delivery of Health Care', 'Huma...</td>\n",
       "    </tr>\n",
       "    <tr>\n",
       "      <th>5472</th>\n",
       "      <td>Prolonged corrected QT interval in hospitalize...</td>\n",
       "      <td>OBJECTIVE  To evaluate the association of a pr...</td>\n",
       "      <td>['COVID-19*', 'Electrocardiography', 'Humans',...</td>\n",
       "    </tr>\n",
       "  </tbody>\n",
       "</table>\n",
       "<p>5473 rows × 3 columns</p>\n",
       "</div>"
      ],
      "text/plain": [
       "                                                  title  \\\n",
       "0     Real-World Experience with COVID-19  Including...   \n",
       "1     Successful outcome of pre-engraftment COVID-19...   \n",
       "2     The impact of COVID-19 on oncology professiona...   \n",
       "3     ICU admission and mortality classifiers for CO...   \n",
       "4     Clinical evaluation of nasopharyngeal  midturb...   \n",
       "...                                                 ...   \n",
       "5468  Hypersensitivity Reactions to Vaccines  Curren...   \n",
       "5469  Rooming-in  Breastfeeding and Neonatal Follow-...   \n",
       "5470  Acute Abducens Nerve Palsy Following the Secon...   \n",
       "5471  Planning and Implementing the Protocol for Psy...   \n",
       "5472  Prolonged corrected QT interval in hospitalize...   \n",
       "\n",
       "                                               abstract  \\\n",
       "0     This article summarizes the experiences of COV...   \n",
       "1     Coronavirus disease 2019  COVID-19   caused by...   \n",
       "2     BACKGROUND  COVID-19 has had a significant imp...   \n",
       "3     The coronavirus disease 2019  COVID-19  which ...   \n",
       "4     In the setting of supply chain shortages of na...   \n",
       "...                                                 ...   \n",
       "5468  The first reports of hypersensitivity reaction...   \n",
       "5469  INTRODUCTION  Due to growing evidence suggesti...   \n",
       "5470  The authors report the case of an otherwise he...   \n",
       "5471  The present study aims to plan the protocol fo...   \n",
       "5472  OBJECTIVE  To evaluate the association of a pr...   \n",
       "\n",
       "                                                   tags  \n",
       "0     ['Aged', 'Aged, 80 and over', 'Antibodies, Mon...  \n",
       "1     ['COVID-19*', 'Hematopoietic Stem Cell Transpl...  \n",
       "2     ['Burnout, Professional* / epidemiology', 'COV...  \n",
       "3     ['Bayes Theorem', 'COVID-19*', 'Hospitalizatio...  \n",
       "4     ['COVID-19 Testing', 'COVID-19* / diagnosis', ...  \n",
       "...                                                 ...  \n",
       "5468  ['Anaphylaxis* / chemically induced', 'COVID-1...  \n",
       "5469  ['Breast Feeding*', 'COVID-19*', 'Female', 'Fo...  \n",
       "5470  ['Abducens Nerve Diseases* / chemically induce...  \n",
       "5471  ['COVID-19*', 'Delivery of Health Care', 'Huma...  \n",
       "5472  ['COVID-19*', 'Electrocardiography', 'Humans',...  \n",
       "\n",
       "[5473 rows x 3 columns]"
      ]
     },
     "execution_count": 11,
     "metadata": {},
     "output_type": "execute_result"
    }
   ],
   "source": [
    "df1"
   ]
  },
  {
   "cell_type": "code",
   "execution_count": 15,
   "id": "1c37e49b",
   "metadata": {},
   "outputs": [
    {
     "data": {
      "text/plain": [
       "0       Real-World Experience with COVID-19  Including...\n",
       "1       Successful outcome of pre-engraftment COVID-19...\n",
       "2       The impact of COVID-19 on oncology professiona...\n",
       "3       ICU admission and mortality classifiers for CO...\n",
       "4       Clinical evaluation of nasopharyngeal  midturb...\n",
       "                              ...                        \n",
       "9995    Rooming-in  Breastfeeding and Neonatal Follow-...\n",
       "9996    Acute Retinal Necrosis from Reactivation of Va...\n",
       "9997    Acute Abducens Nerve Palsy Following the Secon...\n",
       "9998    Planning and Implementing the Protocol for Psy...\n",
       "9999    Prolonged corrected QT interval in hospitalize...\n",
       "Name: title, Length: 10000, dtype: object"
      ]
     },
     "execution_count": 15,
     "metadata": {},
     "output_type": "execute_result"
    }
   ],
   "source": [
    "df['title']"
   ]
  },
  {
   "cell_type": "code",
   "execution_count": 16,
   "id": "ecb2d864",
   "metadata": {},
   "outputs": [],
   "source": [
    "new_df = df[~df.title.isin(list(df1['title']))]"
   ]
  },
  {
   "cell_type": "code",
   "execution_count": 18,
   "id": "acc30a21",
   "metadata": {},
   "outputs": [],
   "source": [
    "new_df.to_csv(\"NonTaggedPapers.csv\")"
   ]
  },
  {
   "cell_type": "markdown",
   "id": "65780b8e",
   "metadata": {},
   "source": [
    "## Next we're gonna loop through the dataset and go to the link specified and download the html page into a list"
   ]
  },
  {
   "cell_type": "code",
   "execution_count": null,
   "id": "878bced9",
   "metadata": {},
   "outputs": [],
   "source": [
    "htmls = []\n",
    "for index, row in df.iterrows():\n",
    "    try:\n",
    "        htmls.append(requests.get(row['url']))\n",
    "    except urllib.error.HTTPError as err:\n",
    "        htmls.append(None)"
   ]
  },
  {
   "cell_type": "code",
   "execution_count": null,
   "id": "ced16310",
   "metadata": {},
   "outputs": [],
   "source": [
    "len(htmls)"
   ]
  },
  {
   "cell_type": "markdown",
   "id": "9e8c15bb",
   "metadata": {},
   "source": [
    "## Next we need to process the html to find our relevant text. Here I'll run the process on an individual case, so you can see how we're handling each link"
   ]
  },
  {
   "cell_type": "code",
   "execution_count": null,
   "id": "d0c04439",
   "metadata": {},
   "outputs": [],
   "source": [
    "a = htmls"
   ]
  },
  {
   "cell_type": "code",
   "execution_count": null,
   "id": "febb6bf7",
   "metadata": {},
   "outputs": [],
   "source": [
    "a[0]"
   ]
  },
  {
   "cell_type": "code",
   "execution_count": null,
   "id": "80010564",
   "metadata": {},
   "outputs": [],
   "source": [
    "soup = BeautifulSoup(a[0].content, \"html.parser\")\n",
    "results = soup.find(id = 'mesh-terms')\n",
    "print(results.prettify())"
   ]
  },
  {
   "cell_type": "code",
   "execution_count": null,
   "id": "7f9e55f1",
   "metadata": {},
   "outputs": [],
   "source": [
    "re.findall(r'Toggle dropdown menu for keyword (.*)\" class', str(results))"
   ]
  },
  {
   "cell_type": "markdown",
   "id": "918ddfce",
   "metadata": {},
   "source": [
    "## Next we need to run it on the entire 10,000 list and then add it as a new column to our dataframe"
   ]
  },
  {
   "cell_type": "code",
   "execution_count": null,
   "id": "5c21f9f9",
   "metadata": {},
   "outputs": [],
   "source": [
    "tags = []\n",
    "for x in a:\n",
    "    try:\n",
    "        soup = BeautifulSoup(x.content, \"html.parser\")\n",
    "        results = soup.find(id = 'mesh-terms')\n",
    "        tags.append(re.findall(r'Toggle dropdown menu for keyword (.*)\" class', str(results)))\n",
    "    except:\n",
    "        tags.append(None)\n",
    "        pass"
   ]
  },
  {
   "cell_type": "code",
   "execution_count": null,
   "id": "ab8b5acf",
   "metadata": {},
   "outputs": [],
   "source": [
    "df['tags'] = tags"
   ]
  },
  {
   "cell_type": "code",
   "execution_count": null,
   "id": "df01f0da",
   "metadata": {},
   "outputs": [],
   "source": [
    "df['tags']"
   ]
  },
  {
   "cell_type": "markdown",
   "id": "25d63e5f",
   "metadata": {},
   "source": [
    "## As we can see on row 9996, we have empty lists instead of a NaN value. Thus pandas will not recognise it as a null value and we won't be able to filter our values. So I'm converting all the empty lists into NaN"
   ]
  },
  {
   "cell_type": "code",
   "execution_count": null,
   "id": "f38ebba5",
   "metadata": {},
   "outputs": [],
   "source": [
    "df.tags = df.tags.apply(lambda y: np.nan if len(y)==0 else y)"
   ]
  },
  {
   "cell_type": "code",
   "execution_count": null,
   "id": "bc4911d3",
   "metadata": {},
   "outputs": [],
   "source": [
    "df.info()"
   ]
  },
  {
   "cell_type": "markdown",
   "id": "4423f826",
   "metadata": {},
   "source": [
    "## We have nearly half our rows without any tag values. Now one reason for this could be that the link was no longer accessible, as we had seen previously. However it is unlikely that half the dataset is dead links"
   ]
  },
  {
   "cell_type": "code",
   "execution_count": null,
   "id": "7e85f7b8",
   "metadata": {},
   "outputs": [],
   "source": [
    "df[df['tags'].isnull()]"
   ]
  },
  {
   "cell_type": "markdown",
   "id": "a3aa453c",
   "metadata": {},
   "source": [
    "## Looking at an individual case, for example row 14. Earlier we found out the first error 404 link was at row 70, so that means row 14's link should be accessible.\n",
    "## After manually opening the link, it loads fine. However a new problem, is that the author has not specified any mesh terms (i.e keywords). As a result our parser returned nothing.\n",
    "## A combination of dead links and unlabelled mesh terms, means half our dataset will need to be discarded, at least in the training phase."
   ]
  },
  {
   "cell_type": "code",
   "execution_count": null,
   "id": "2b77714f",
   "metadata": {},
   "outputs": [],
   "source": [
    "df = df[df['tags'].notna()]"
   ]
  },
  {
   "cell_type": "code",
   "execution_count": null,
   "id": "9984c4c1",
   "metadata": {},
   "outputs": [],
   "source": [
    "df.info()"
   ]
  },
  {
   "cell_type": "code",
   "execution_count": null,
   "id": "86befebd",
   "metadata": {},
   "outputs": [],
   "source": [
    "df.head()"
   ]
  },
  {
   "cell_type": "markdown",
   "id": "a97d61d3",
   "metadata": {},
   "source": [
    "## We can also drop the url column, as we no longer need it to retrieve our tags"
   ]
  },
  {
   "cell_type": "code",
   "execution_count": null,
   "id": "db5ffec9",
   "metadata": {},
   "outputs": [],
   "source": [
    "df.drop('url', axis=1, inplace=True)"
   ]
  },
  {
   "cell_type": "markdown",
   "id": "6c8fbdc7",
   "metadata": {},
   "source": [
    "## Now we finally have our clean and complete dataset and ready to use it!"
   ]
  },
  {
   "cell_type": "code",
   "execution_count": null,
   "id": "45797785",
   "metadata": {},
   "outputs": [],
   "source": [
    "df.head(10)"
   ]
  },
  {
   "cell_type": "code",
   "execution_count": null,
   "id": "28870114",
   "metadata": {},
   "outputs": [],
   "source": [
    "df.to_csv('Covid_Papers.csv')"
   ]
  }
 ],
 "metadata": {
  "kernelspec": {
   "display_name": "Python 3 (ipykernel)",
   "language": "python",
   "name": "python3"
  },
  "language_info": {
   "codemirror_mode": {
    "name": "ipython",
    "version": 3
   },
   "file_extension": ".py",
   "mimetype": "text/x-python",
   "name": "python",
   "nbconvert_exporter": "python",
   "pygments_lexer": "ipython3",
   "version": "3.9.7"
  }
 },
 "nbformat": 4,
 "nbformat_minor": 5
}
